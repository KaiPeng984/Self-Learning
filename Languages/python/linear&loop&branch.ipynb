{
 "cells": [
  {
   "cell_type": "markdown",
   "metadata": {},
   "source": [
    "# 三大结构\n",
    "* 顺序\n",
    "* 分支\n",
    "* 循环"
   ]
  },
  {
   "cell_type": "markdown",
   "metadata": {},
   "source": [
    "# 分支\n",
    "- 分支基本语法\n",
    "    \n",
    "           if 条件表达式:\n",
    "              语句1\n",
    "              语句2\n",
    "              .........\n",
    "- 条件表达式就是计算结果必须是布尔值的表达式\n",
    "- 表达式后面的冒号不能少\n",
    "- 注意if后面的出现的语句，如果属于if语句块，则必须同一个缩进等级\n",
    "- 条件表达式结果为True执行if后面的语句块"
   ]
  },
  {
   "cell_type": "markdown",
   "metadata": {},
   "source": [
    "## 双向分支\n",
    "- if...else..."
   ]
  },
  {
   "cell_type": "code",
   "execution_count": 4,
   "metadata": {},
   "outputs": [
    {
     "name": "stdout",
     "output_type": "stream",
     "text": [
      "input ur name: sb\n",
      "Ur name is sb\n",
      "Hello sb\n"
     ]
    }
   ],
   "source": [
    "gender = input(\"input ur name: \")\n",
    "print(\"Ur name is {0}\".format(gender))\n",
    "if gender == \"sb\":\n",
    "    print(\"Hello sb\")\n",
    "else:\n",
    "    print(\"no!!!\")\n"
   ]
  },
  {
   "cell_type": "markdown",
   "metadata": {},
   "source": [
    "## 多路分支\n",
    "\n",
    "         if\n",
    "         elif\n",
    "         ...\n",
    "         else"
   ]
  },
  {
   "cell_type": "markdown",
   "metadata": {},
   "source": [
    "# 循环语句\n",
    "- 重复执行某些固定动作或者处理基本固定的事物\n",
    "- 分类\n",
    "    - for 循环\n",
    "    - while 循环\n",
    "## for 循环\n",
    "- for 循环\n",
    "        \n",
    "        for 变量 in 序列：\n",
    "            语句1\n",
    "            语句2\n",
    "            ..."
   ]
  },
  {
   "cell_type": "code",
   "execution_count": 7,
   "metadata": {},
   "outputs": [
    {
     "name": "stdout",
     "output_type": "stream",
     "text": [
      "sb\n",
      "s\n",
      "b\n"
     ]
    }
   ],
   "source": [
    "for name in [\"sb\",\"s\",\"b\"]:\n",
    "    print(name)"
   ]
  },
  {
   "cell_type": "code",
   "execution_count": 10,
   "metadata": {},
   "outputs": [
    {
     "name": "stdout",
     "output_type": "stream",
     "text": [
      "1\n",
      "2\n",
      "3\n",
      "4\n",
      "5\n",
      "6\n",
      "7\n",
      "8\n",
      "9\n"
     ]
    }
   ],
   "source": [
    "# 左闭右开\n",
    "for i in range(1,10):\n",
    "    print(i)"
   ]
  },
  {
   "cell_type": "markdown",
   "metadata": {},
   "source": [
    "## for-else 语句\n",
    "- 当for循环结束的时候 会执行else语句\n",
    "- else语句是可选语句"
   ]
  },
  {
   "cell_type": "code",
   "execution_count": 12,
   "metadata": {},
   "outputs": [
    {
     "name": "stdout",
     "output_type": "stream",
     "text": [
      "sb\n",
      "s\n",
      "b\n",
      "no more stu\n"
     ]
    }
   ],
   "source": [
    "# for-else 语句\n",
    "# 打印列表中的同学 如果 结束了打印提示语句\n",
    "for name in [\"sb\",\"s\",\"b\"]:\n",
    "    print(name)\n",
    "else:\n",
    "    print(\"no more stu\")"
   ]
  },
  {
   "cell_type": "markdown",
   "metadata": {},
   "source": [
    "# 循环之break continue pass\n",
    "- break: 无条件结束整个循环\n",
    "- continue: 结束此次循环 进入下一轮循环\n",
    "- pass： 表示路过\n"
   ]
  },
  {
   "cell_type": "code",
   "execution_count": 14,
   "metadata": {},
   "outputs": [
    {
     "name": "stdout",
     "output_type": "stream",
     "text": [
      "2\n",
      "4\n",
      "6\n",
      "8\n",
      "10\n"
     ]
    }
   ],
   "source": [
    "# 判断语句 规范\n",
    "for i in range(1,11):\n",
    "    if i%2 == 1:\n",
    "        continue\n",
    "    print(\"{0}\".format(i))"
   ]
  },
  {
   "cell_type": "code",
   "execution_count": null,
   "metadata": {},
   "outputs": [],
   "source": [
    "# pass 例子 一般用于占位\n",
    "# pass没有跳过功能\n",
    "for i in range(1,11):\n",
    "    pass\n",
    "    print(\"sb\")"
   ]
  },
  {
   "cell_type": "markdown",
   "metadata": {},
   "source": [
    "# while 循环\n",
    "- 一个循环语句\n",
    "- 表示当某条件成立的时候 就循环\n",
    "- 不知道具体循环次数，但是能确定循环的成立条件的时候就用while\n",
    "- while 语句:\n",
    "            \n",
    "            while 条件语句:\n",
    "                语句块"
   ]
  },
  {
   "cell_type": "markdown",
   "metadata": {},
   "source": [
    "# 函数\n",
    "- 代码的一种组织i形式\n",
    "- 一个函数一般完成一项特定的功能\n",
    "- 函数定义\n",
    "     - 函数需要定义\n",
    "     - 使用函数 俗称调用\n",
    "- 返回值 默认返回 **None**\n",
    "     "
   ]
  },
  {
   "cell_type": "code",
   "execution_count": 18,
   "metadata": {},
   "outputs": [
    {
     "name": "stdout",
     "output_type": "stream",
     "text": [
      "sb, how are u\n"
     ]
    }
   ],
   "source": [
    "# 定义一个函数\n",
    "def hello(person):\n",
    "    print(\"{0}, how are u\".format(person))\n",
    "hello(\"sb\")"
   ]
  },
  {
   "cell_type": "code",
   "execution_count": 28,
   "metadata": {},
   "outputs": [
    {
     "name": "stdout",
     "output_type": "stream",
     "text": [
      "\n",
      "2 \n",
      "3 6 \n",
      "4 8 12 \n",
      "5 10 15 20 \n",
      "6 12 18 24 30 \n",
      "7 14 21 28 35 42 \n",
      "8 16 24 32 40 48 56 \n",
      "9 18 27 36 45 54 63 72 \n"
     ]
    }
   ],
   "source": [
    "def Nine():\n",
    "    for row in range (1,10):\n",
    "        for col in range (1,row):\n",
    "            print (row*col,end=' ')\n",
    "        print()\n",
    "Nine()"
   ]
  },
  {
   "cell_type": "markdown",
   "metadata": {},
   "source": [
    "# 参数详解\n",
    "- 参数分类\n",
    "    - 普通参数\n",
    "    - 默认参数\n",
    "    - 关键字参数\n",
    "    - 收集参数\n",
    "- 普通参数\n",
    "    - 定义的时候直接定义变量名\n",
    "    - 条用的时候直接把变量变成或者值放入指定位置\n",
    "                    \n",
    "                    def 函数名（参数1，参数2，....):\n",
    "- 默认参数\n",
    "   - print(sep = '', end = \"\\n\")"
   ]
  }
 ],
 "metadata": {
  "kernelspec": {
   "display_name": "Python 3",
   "language": "python",
   "name": "python3"
  },
  "language_info": {
   "codemirror_mode": {
    "name": "ipython",
    "version": 3
   },
   "file_extension": ".py",
   "mimetype": "text/x-python",
   "name": "python",
   "nbconvert_exporter": "python",
   "pygments_lexer": "ipython3",
   "version": "3.7.1"
  }
 },
 "nbformat": 4,
 "nbformat_minor": 2
}
